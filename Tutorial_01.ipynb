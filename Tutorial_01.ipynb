{
 "cells": [
  {
   "cell_type": "markdown",
   "id": "71ff88aa-9a79-4892-9573-117cbdc29812",
   "metadata": {},
   "source": [
    "## How to grab a Cloud-Optimized Geotiff and Visualise it Interactively"
   ]
  },
  {
   "cell_type": "markdown",
   "id": "0dc3f88a-6f83-41f4-96c1-89651c776cc1",
   "metadata": {},
   "source": [
    "In this tutorial, we will show how someone can access the open EO data from open STAC catalogs and visualize them interactively using the Python ecosystem. To achieve this, we need the following packages within our Python environment.\n",
    "\n",
    "- [xcube](https://xcube.readthedocs.io/en/latest/)\n",
    "- [xarray](https://docs.xarray.dev/en/stable/)\n",
    "- [pandas](https://pandas.pydata.org/docs/)\n",
    "- [leafmap](https://leafmap.org/)\n",
    "- [shapely](https://shapely.readthedocs.io/en/stable/manual.html)\n",
    "- [ipyleaflet](https://ipyleaflet.readthedocs.io/en/latest/)\n",
    "- [pystac_client](https://pystac-client.readthedocs.io/en/stable/)\n",
    "\n",
    "If you have these packages installed in your Python environment, then let's get started."
   ]
  },
  {
   "cell_type": "markdown",
   "id": "dcfd42a9-4b0e-4a21-8ae8-73d0371afe35",
   "metadata": {},
   "source": [
    "### Importing the tools we are going to use "
   ]
  },
  {
   "cell_type": "code",
   "execution_count": 1,
   "id": "61c9b811-65c7-4757-8f36-9472ceb77f1d",
   "metadata": {},
   "outputs": [],
   "source": [
    "from leafmap import Map\n",
    "from pystac_client import Client\n",
    "from shapely.geometry import shape\n",
    "from ipyleaflet import DrawControl, LayersControl\n",
    "import rasterio\n",
    "from pandas import date_range\n",
    "from xarray import open_dataset, concat\n",
    "from xcube.webapi.viewer import Viewer"
   ]
  },
  {
   "cell_type": "markdown",
   "id": "14693d6f-39ab-40b7-8b95-4f314b3b5fb7",
   "metadata": {},
   "source": [
    "### Selection of the area of interest for global layers\n",
    "\n",
    "Since personal computers don't have extravagant memory, we don't want to encounter memory usage issues. We need to pick a region we are interested in to load and visualize from global layers. Let's pick South America to visualize without downloading data on our local drive."
   ]
  },
  {
   "cell_type": "code",
   "execution_count": 2,
   "id": "cc6ab61b-9ec0-4008-8e2f-cf9a31ab8e72",
   "metadata": {},
   "outputs": [
    {
     "data": {
      "application/vnd.jupyter.widget-view+json": {
       "model_id": "ca34a8efd9b243dda77f30be9de20048",
       "version_major": 2,
       "version_minor": 0
      },
      "text/plain": [
       "Map(center=[20, 0], controls=(ZoomControl(options=['position', 'zoom_in_text', 'zoom_in_title', 'zoom_out_text…"
      ]
     },
     "execution_count": 2,
     "metadata": {},
     "output_type": "execute_result"
    }
   ],
   "source": [
    "# define the map properties \n",
    "map_props = dict(draw_control=False, measure_control=False, fullscreen_control=False)\n",
    "\n",
    "map = Map(**map_props)\n",
    "map.add_basemap('HYBRID') # adding a basemap\n",
    "draw_control = DrawControl()\n",
    "draw_control.rectangle = { 'shapeOptions': {'color':'#ff0000', 'fillOpacity':0, 'opacity':1}}\n",
    "map.add_control(draw_control)\n",
    "map\n"
   ]
  },
  {
   "cell_type": "markdown",
   "id": "f70820e0-ef5f-47f3-b6da-760192f9dd70",
   "metadata": {},
   "source": [
    "#### After selecting the area of interest, we can extract the bounds we selected from the map"
   ]
  },
  {
   "cell_type": "code",
   "execution_count": 3,
   "id": "569362f7-208e-47b5-b31d-e6a99b139449",
   "metadata": {},
   "outputs": [
    {
     "name": "stdout",
     "output_type": "stream",
     "text": [
      "Bounds : (-100.390035, -57.073257, -31.857913, 18.75609)\n"
     ]
    }
   ],
   "source": [
    "geometry = shape(draw_control.data[-1]['geometry'])\n",
    "bounds = geometry.bounds\n",
    "print(f'Bounds : {bounds}')"
   ]
  },
  {
   "cell_type": "markdown",
   "id": "f2a5ff4d-597a-45fa-a875-6dc9f617b378",
   "metadata": {},
   "source": [
    "### Let's get global data layers from open-source stac catalogs\n",
    "\n",
    "You can select a global datalayer collection from either [OpenLandMap STAC](https://stac.openlandmap.org) or [EcoDataCube STAC](https://stac.ecodatacube.eu). These two open-source data catalogs have a dedicated web application to show the data layers presented in the STAC catalog. You can access these web applications via [OpenLandMap](https://openlandmap.org/) and [EcoDataCube](https://ecodatacube.eu/). If you are a [QGIS](https://qgis.org/) user, you can download and install the dedicated [QGIS Plugin](https://github.com/Open-Earth-Monitor/oemc-qgis-plugin) to explore the data layers in these STAC catalogs. "
   ]
  },
  {
   "cell_type": "code",
   "execution_count": 4,
   "id": "4efdd375-669c-4e8d-a6ab-6b553d6fadf8",
   "metadata": {},
   "outputs": [],
   "source": [
    "# define the catalog route and the id's of the collection and item we are interested in\n",
    "# I selected the yearly water vapor data layers\n",
    "catalog_url = \"https://s3.eu-central-1.wasabisys.com/stac/openlandmap/catalog.json\"\n",
    "target_collection = \"wv_mcd19a2v061.seasconv.m.yearly\"\n",
    "target_item = \"wv_mcd19a2v061.seasconv.m.yearly_p75_1km_s\"\n",
    "\n",
    "file_store = [] # storage for the URL of the rasters\n",
    "\n",
    "catalog = Client.open(catalog_url)\n",
    "\n",
    "for collection in catalog.get_collections():\n",
    "    if collection.id == target_collection:\n",
    "        items = collection.get_all_items()\n",
    "        for item in items:\n",
    "            for key in item.to_dict()['assets'].keys():\n",
    "                if key == target_item:\n",
    "                    file_store.append(item.to_dict()['assets'][key]['href'])\n",
    "        "
   ]
  },
  {
   "cell_type": "code",
   "execution_count": 5,
   "id": "1332eb24-4804-4e62-acff-bff581a59898",
   "metadata": {},
   "outputs": [
    {
     "data": {
      "text/plain": [
       "['https://s3.openlandmap.org/arco/wv_mcd19a2v061.seasconv.m.yearly_p75_1km_s_20000101_20001231_go_epsg.4326_v20230619.tif',\n",
       " 'https://s3.openlandmap.org/arco/wv_mcd19a2v061.seasconv.m.yearly_p75_1km_s_20010101_20011231_go_epsg.4326_v20230619.tif',\n",
       " 'https://s3.openlandmap.org/arco/wv_mcd19a2v061.seasconv.m.yearly_p75_1km_s_20020101_20021231_go_epsg.4326_v20230619.tif',\n",
       " 'https://s3.openlandmap.org/arco/wv_mcd19a2v061.seasconv.m.yearly_p75_1km_s_20030101_20031231_go_epsg.4326_v20230619.tif',\n",
       " 'https://s3.openlandmap.org/arco/wv_mcd19a2v061.seasconv.m.yearly_p75_1km_s_20040101_20041231_go_epsg.4326_v20230619.tif',\n",
       " 'https://s3.openlandmap.org/arco/wv_mcd19a2v061.seasconv.m.yearly_p75_1km_s_20050101_20051231_go_epsg.4326_v20230619.tif',\n",
       " 'https://s3.openlandmap.org/arco/wv_mcd19a2v061.seasconv.m.yearly_p75_1km_s_20060101_20061231_go_epsg.4326_v20230619.tif',\n",
       " 'https://s3.openlandmap.org/arco/wv_mcd19a2v061.seasconv.m.yearly_p75_1km_s_20070101_20071231_go_epsg.4326_v20230619.tif',\n",
       " 'https://s3.openlandmap.org/arco/wv_mcd19a2v061.seasconv.m.yearly_p75_1km_s_20080101_20081231_go_epsg.4326_v20230619.tif',\n",
       " 'https://s3.openlandmap.org/arco/wv_mcd19a2v061.seasconv.m.yearly_p75_1km_s_20090101_20091231_go_epsg.4326_v20230619.tif',\n",
       " 'https://s3.openlandmap.org/arco/wv_mcd19a2v061.seasconv.m.yearly_p75_1km_s_20100101_20101231_go_epsg.4326_v20230619.tif',\n",
       " 'https://s3.openlandmap.org/arco/wv_mcd19a2v061.seasconv.m.yearly_p75_1km_s_20110101_20111231_go_epsg.4326_v20230619.tif',\n",
       " 'https://s3.openlandmap.org/arco/wv_mcd19a2v061.seasconv.m.yearly_p75_1km_s_20120101_20121231_go_epsg.4326_v20230619.tif',\n",
       " 'https://s3.openlandmap.org/arco/wv_mcd19a2v061.seasconv.m.yearly_p75_1km_s_20130101_20131231_go_epsg.4326_v20230619.tif',\n",
       " 'https://s3.openlandmap.org/arco/wv_mcd19a2v061.seasconv.m.yearly_p75_1km_s_20140101_20141231_go_epsg.4326_v20230619.tif',\n",
       " 'https://s3.openlandmap.org/arco/wv_mcd19a2v061.seasconv.m.yearly_p75_1km_s_20150101_20151231_go_epsg.4326_v20230619.tif',\n",
       " 'https://s3.openlandmap.org/arco/wv_mcd19a2v061.seasconv.m.yearly_p75_1km_s_20160101_20161231_go_epsg.4326_v20230619.tif',\n",
       " 'https://s3.openlandmap.org/arco/wv_mcd19a2v061.seasconv.m.yearly_p75_1km_s_20170101_20171231_go_epsg.4326_v20230619.tif',\n",
       " 'https://s3.openlandmap.org/arco/wv_mcd19a2v061.seasconv.m.yearly_p75_1km_s_20180101_20181231_go_epsg.4326_v20230619.tif',\n",
       " 'https://s3.openlandmap.org/arco/wv_mcd19a2v061.seasconv.m.yearly_p75_1km_s_20190101_20191231_go_epsg.4326_v20230619.tif',\n",
       " 'https://s3.openlandmap.org/arco/wv_mcd19a2v061.seasconv.m.yearly_p75_1km_s_20200101_20201231_go_epsg.4326_v20230619.tif',\n",
       " 'https://s3.openlandmap.org/arco/wv_mcd19a2v061.seasconv.m.yearly_p75_1km_s_20210101_20211231_go_epsg.4326_v20230619.tif',\n",
       " 'https://s3.openlandmap.org/arco/wv_mcd19a2v061.seasconv.m.yearly_p75_1km_s_20220101_20221231_go_epsg.4326_v20230619.tif']"
      ]
     },
     "execution_count": 5,
     "metadata": {},
     "output_type": "execute_result"
    }
   ],
   "source": [
    "file_store"
   ]
  },
  {
   "cell_type": "markdown",
   "id": "7d22655e-e05d-481f-b261-5c350df2d77f",
   "metadata": {},
   "source": []
  },
  {
   "cell_type": "markdown",
   "id": "cb0c040e-ba0d-4f16-8527-1dcb7800cc1b",
   "metadata": {
    "jp-MarkdownHeadingCollapsed": true
   },
   "source": [
    "We can see the time coverage of the data layers from their names and the time coverage of each raster file is __1 year__.  If you want to make a deep-dive into the naming convention of this stac [the perfect spot](https://openlandmap.github.io/book/#the-file-naming-convention) is here for it."
   ]
  },
  {
   "cell_type": "code",
   "execution_count": 6,
   "id": "2202896d-53d4-46f8-8e91-c36d0c6de25e",
   "metadata": {},
   "outputs": [
    {
     "data": {
      "text/plain": [
       "Window(col_off=9553.196182127847, row_off=8233.669529346782, width=8223.8549689542, height=9099.522003980881)"
      ]
     },
     "execution_count": 6,
     "metadata": {},
     "output_type": "execute_result"
    }
   ],
   "source": [
    "# Converting the bounding box of the South America to raster pixels for the desired data layers\n",
    "\n",
    "with rasterio.open(file_store[0]) as src:\n",
    "    window = rasterio.windows.from_bounds(bounds[0],bounds[1],bounds[2],bounds[3],src.transform)\n",
    "    stats = src.statistics(1)\n",
    "\n",
    "window"
   ]
  },
  {
   "cell_type": "code",
   "execution_count": 7,
   "id": "e2907d90-3938-464e-be74-b8375669ae8d",
   "metadata": {},
   "outputs": [
    {
     "data": {
      "text/plain": [
       "Statistics(min=29.0, max=6931.0, mean=1747.3372062931478, std=1155.7961700334056)"
      ]
     },
     "execution_count": 7,
     "metadata": {},
     "output_type": "execute_result"
    }
   ],
   "source": [
    "stats"
   ]
  },
  {
   "cell_type": "code",
   "execution_count": 8,
   "id": "2211613c-1768-4cbb-996e-ce5cd3d56a74",
   "metadata": {},
   "outputs": [],
   "source": [
    "# Since we are going to create a datacube while reading and concatenating the rasters, we need a function to do it in a tidy manner\n",
    "\n",
    "def read_raster(file_url, window=None):\n",
    "    if window:\n",
    "        d = open_dataset(file_url, engine='rasterio').isel(\n",
    "            x=slice(int(window.col_off), int(window.col_off + window.width)),\n",
    "            y=slice(int(window.row_off), int(window.row_off + window.height))\n",
    "        )\n",
    "    else:\n",
    "        d = open_dataset(file_url, engine='rasterio')\n",
    "    d = d.expand_dims(time = date_range(file_url.split('_')[5], file_url.split('_')[6], freq='Y'))\n",
    "    return d"
   ]
  },
  {
   "cell_type": "code",
   "execution_count": 9,
   "id": "cf82624a-3d46-4ba9-abfa-c4aa5663f2d1",
   "metadata": {},
   "outputs": [],
   "source": [
    "first_run = True\n",
    "for f in file_store:\n",
    "    if first_run:\n",
    "        datacube = read_raster(f, window)\n",
    "        first_run = False\n",
    "    else:\n",
    "        d = read_raster(f,window)\n",
    "        datacube = concat([datacube, d], dim='time')"
   ]
  },
  {
   "cell_type": "code",
   "execution_count": 10,
   "id": "564bfa42-ec63-4224-b354-50666f275058",
   "metadata": {},
   "outputs": [],
   "source": [
    "## setting up the XCUBE viewer to view and interact with the data \n",
    "viewer = Viewer(\n",
    "    server_config = {\n",
    "        'Styles': [\n",
    "            {\n",
    "                'Identifier' : 'mydata',\n",
    "                'ColorMappings': {\n",
    "                    'band_data': {\n",
    "                        'ValueRange':[stats.min, stats.max],\n",
    "                        'ColorBar':'plasma_r'\n",
    "                    }\n",
    "                }\n",
    "            }\n",
    "        ]\n",
    "    }\n",
    ")"
   ]
  },
  {
   "cell_type": "code",
   "execution_count": 11,
   "id": "64a92a57-00cb-4d9c-9951-f839c9589c42",
   "metadata": {},
   "outputs": [
    {
     "data": {
      "text/html": [
       "<iframe src=\"http://localhost:8002/viewer/?serverUrl=http://localhost:8002&compact=1\" width=\"100%\" height=\"800\"/>"
      ],
      "text/plain": [
       "<IPython.core.display.HTML object>"
      ]
     },
     "execution_count": 11,
     "metadata": {},
     "output_type": "execute_result"
    },
    {
     "name": "stderr",
     "output_type": "stream",
     "text": [
      "404 GET /viewer/config/config.json (127.0.0.1): xcube viewer has not been been configured\n",
      "404 GET /viewer/config/config.json (127.0.0.1) 2.85ms\n"
     ]
    }
   ],
   "source": [
    "viewer.add_dataset(datacube, style='mydata')\n",
    "viewer.show()"
   ]
  }
 ],
 "metadata": {
  "kernelspec": {
   "display_name": "Python 3 (ipykernel)",
   "language": "python",
   "name": "python3"
  },
  "language_info": {
   "codemirror_mode": {
    "name": "ipython",
    "version": 3
   },
   "file_extension": ".py",
   "mimetype": "text/x-python",
   "name": "python",
   "nbconvert_exporter": "python",
   "pygments_lexer": "ipython3",
   "version": "3.11.6"
  }
 },
 "nbformat": 4,
 "nbformat_minor": 5
}
